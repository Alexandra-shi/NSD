{
 "cells": [
  {
   "cell_type": "code",
   "execution_count": 75,
   "metadata": {},
   "outputs": [],
   "source": [
    "from bs4 import BeautifulSoup\n",
    "import requests\n",
    "import pandas as pd\n",
    "import numpy as np\n",
    "import re"
   ]
  },
  {
   "cell_type": "code",
   "execution_count": 76,
   "metadata": {},
   "outputs": [],
   "source": [
    "url = 'https://habr.com/ru/post/346198/'\n",
    "page = requests.get(url)"
   ]
  },
  {
   "cell_type": "code",
   "execution_count": 77,
   "metadata": {},
   "outputs": [],
   "source": [
    "df = pd.DataFrame(columns=['title', 'text', 'year', 'tags', 'votes', 'views', 'bookmarks', 'comments'])"
   ]
  },
  {
   "cell_type": "code",
   "execution_count": 79,
   "metadata": {},
   "outputs": [],
   "source": [
    "soup = BeautifulSoup(page.text, 'html5lib')"
   ]
  },
  {
   "cell_type": "code",
   "execution_count": 80,
   "metadata": {},
   "outputs": [],
   "source": [
    "text = soup.find(\"div\",\n",
    "    class_=\"post__text post__text-html\").text"
   ]
  },
  {
   "cell_type": "code",
   "execution_count": 166,
   "metadata": {},
   "outputs": [],
   "source": [
    "def cleanhtml(raw_html):\n",
    "  cleanr = re.compile('<.*?>')\n",
    "  cleantext = re.sub(cleanr, '', raw_html)\n",
    "  regex = re.compile('[^A-Za-zА-Яа-я]')\n",
    "  cleantext = regex.sub(' ', cleantext)\n",
    "  return cleantext"
   ]
  },
  {
   "cell_type": "code",
   "execution_count": 179,
   "metadata": {},
   "outputs": [],
   "source": [
    "def isvotes(tag):\n",
    "    return tag.has_attr('class') and tag.has_attr('onclick') and not tag.has_attr('href') and not tag.has_attr('type')"
   ]
  },
  {
   "cell_type": "code",
   "execution_count": 229,
   "metadata": {},
   "outputs": [],
   "source": [
    "def document(id):\n",
    "    page = requests.get('https://habr.com/ru/post/' + str(id) + '/')\n",
    "    soup = BeautifulSoup(page.text, 'html5lib')\n",
    "    info = []\n",
    "    if soup.find(\"span\", class_= \"post__title-text\"):\n",
    "        #title\n",
    "        info.append(soup.find(\"span\", class_= \"post__title-text\").text)\n",
    "        #text\n",
    "        text = soup.find(\"div\", class_=\"post__text post__text-html\").text\n",
    "        info.append(cleanhtml(text).split())\n",
    "        #year\n",
    "        info.append(int(soup.find(\"span\", class_= \"post__time\").text.split()[2]))\n",
    "        #tags\n",
    "        tagsshit = soup.find_all(\"a\", class_=\"inline-list__item-link hub-link\")\n",
    "        tags = []\n",
    "        for i in range(len(tagsshit)):\n",
    "            tags.append(tagsshit[i].text)\n",
    "        info.append(tags)\n",
    "        #votes\n",
    "        info.append(int(soup.find(isvotes).text))\n",
    "        #views\n",
    "        a = soup.find(\"div\", class_=\"post-stats__views\").text.strip()\n",
    "        if 'k' in a:\n",
    "            views = float(a[:-1].replace(',', '.')) * 1000\n",
    "        else:\n",
    "            views = int(a)\n",
    "        info.append(views)\n",
    "        #bookmarks\n",
    "        info.append(int(soup.find(\"span\", class_=\"bookmark__counter js-favs_count\").text))\n",
    "        #comments\n",
    "        comment1 = soup.find_all(\"div\", class_=\"comment__message\")\n",
    "        comments = []\n",
    "        for i in range(len(comment1)):\n",
    "            comments.append(comment1[i].text)\n",
    "        info.append(comments)\n",
    "    else:\n",
    "        info.append('NaN')\n",
    "    print(id)\n",
    "    return info\n",
    "    "
   ]
  },
  {
   "cell_type": "code",
   "execution_count": 230,
   "metadata": {},
   "outputs": [
    {
     "name": "stdout",
     "output_type": "stream",
     "text": [
      "346198\n",
      "346199\n",
      "346200\n",
      "346201\n",
      "346202\n",
      "346203\n",
      "346204\n",
      "346205\n",
      "346206\n",
      "346207\n",
      "346208\n",
      "346209\n",
      "346210\n",
      "346211\n",
      "346212\n",
      "346213\n",
      "346214\n",
      "346215\n",
      "346216\n",
      "346217\n",
      "346218\n",
      "346219\n",
      "346220\n",
      "346221\n",
      "346222\n",
      "346223\n",
      "346224\n",
      "346225\n",
      "346226\n",
      "346227\n",
      "346228\n",
      "346229\n",
      "346230\n",
      "346231\n",
      "346232\n",
      "346233\n",
      "346234\n",
      "346235\n",
      "346236\n",
      "346237\n",
      "346238\n",
      "346239\n",
      "346240\n",
      "346241\n",
      "346242\n",
      "346243\n",
      "346244\n",
      "346245\n",
      "346246\n",
      "346247\n",
      "Wall time: 32 s\n"
     ]
    }
   ],
   "source": [
    "%time a = list(map(document, np.arange(346198,346248)))"
   ]
  },
  {
   "cell_type": "code",
   "execution_count": 219,
   "metadata": {},
   "outputs": [],
   "source": [
    "df = pd.DataFrame(a, columns=['title', 'text', 'year', 'tags', 'votes', 'views', 'bookmarks', 'comments'])\n",
    "df.dropna(inplace=True)"
   ]
  },
  {
   "cell_type": "code",
   "execution_count": 228,
   "metadata": {},
   "outputs": [],
   "source": [
    "for i in df['tags']:\n",
    "    if 'Платежные системы' in i:\n",
    "        print(i)"
   ]
  }
 ],
 "metadata": {
  "kernelspec": {
   "display_name": "Python 3",
   "language": "python",
   "name": "python3"
  },
  "language_info": {
   "codemirror_mode": {
    "name": "ipython",
    "version": 3
   },
   "file_extension": ".py",
   "mimetype": "text/x-python",
   "name": "python",
   "nbconvert_exporter": "python",
   "pygments_lexer": "ipython3",
   "version": "3.7.4"
  }
 },
 "nbformat": 4,
 "nbformat_minor": 2
}
